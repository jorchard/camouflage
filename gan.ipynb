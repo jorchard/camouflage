{
 "cells": [
  {
   "cell_type": "markdown",
   "metadata": {},
   "source": [
    "# Generative Adversarial Network (GAN)"
   ]
  },
  {
   "cell_type": "code",
   "execution_count": 1,
   "metadata": {},
   "outputs": [],
   "source": [
    "import numpy as np\n",
    "import torch\n",
    "import torch.nn as nn\n",
    "import torchvision\n",
    "import matplotlib.pyplot as plt\n",
    "from tqdm import tqdm\n",
    "device = 'cuda' if torch.cuda.is_available() else 'cpu'"
   ]
  },
  {
   "cell_type": "code",
   "execution_count": 2,
   "metadata": {},
   "outputs": [],
   "source": [
    "def accuracy(net, dl):\n",
    "    acc = 0.\n",
    "    for x,t in dl:\n",
    "        y = net(x)\n",
    "        k = torch.argmax(y, dim=-1)\n",
    "        acc += torch.sum(k==t)\n",
    "    return acc.item() / len(dl.dataset)"
   ]
  },
  {
   "cell_type": "code",
   "execution_count": 3,
   "metadata": {},
   "outputs": [],
   "source": [
    "# PyTorch 1.7 includes a layer called Unflatten, which undoes what Flatten does.\n",
    "# If your torch version is <1.7, then you can use this class in its place.\n",
    "class Unflatten(nn.Module):\n",
    "    '''\n",
    "     Unflatten(dim, unflatten_size)\n",
    "     \n",
    "     Reshapes a DxN tensor to Dx(*unflatten_size).\n",
    "     The first argument, dim, is actually IGNORED, but is included here\n",
    "     for compatibility with nn.Unflatten.\n",
    "     \n",
    "     Usage:\n",
    "       x = torch.random(10,50)  # x is 10x50\n",
    "       lyr = Unflatten(1, (2,5,5))\n",
    "       y = lyr(x)   # produces y with dimensions (10,2,5,5)\n",
    "    '''\n",
    "    def __init__(self, dim, shape):\n",
    "        super().__init__()\n",
    "        self.start_dim = dim\n",
    "        self.shape = shape\n",
    "        \n",
    "    def forward(self, x):\n",
    "        return torch.reshape(x, (x.shape[0], *self.shape))"
   ]
  },
  {
   "cell_type": "markdown",
   "metadata": {},
   "source": [
    "# Dataset"
   ]
  },
  {
   "cell_type": "code",
   "execution_count": 4,
   "metadata": {},
   "outputs": [],
   "source": [
    "ds_train_full = torchvision.datasets.MNIST('./files/', train=True, download=True,\n",
    "                            transform=torchvision.transforms.Compose([\n",
    "                            torchvision.transforms.ToTensor(),\n",
    "                            torchvision.transforms.Normalize((0.5,),(0.5,)),\n",
    "                            torchvision.transforms.Lambda((lambda x: torch.flatten(x))),\n",
    "                            ]))"
   ]
  },
  {
   "cell_type": "code",
   "execution_count": 17,
   "metadata": {},
   "outputs": [],
   "source": [
    "ds_train_full = torchvision.datasets.MNIST('./files/', train=True, download=True,\n",
    "                            transform=torchvision.transforms.Compose([\n",
    "                            torchvision.transforms.ToTensor(),\n",
    "                            torchvision.transforms.Normalize((0.5,),(0.5,)),\n",
    "                            ]))"
   ]
  },
  {
   "cell_type": "markdown",
   "metadata": {},
   "source": [
    "## Process"
   ]
  },
  {
   "cell_type": "code",
   "execution_count": 33,
   "metadata": {},
   "outputs": [],
   "source": [
    "ds_train = torch.utils.data.Subset(ds_train_full, range(1024))\n",
    "#ds_train = ds_train_full"
   ]
  },
  {
   "cell_type": "code",
   "execution_count": 34,
   "metadata": {},
   "outputs": [],
   "source": [
    "x,t = ds_train.__getitem__(0)"
   ]
  },
  {
   "cell_type": "code",
   "execution_count": 35,
   "metadata": {},
   "outputs": [],
   "source": [
    "def draw(X):\n",
    "    img_size = 28\n",
    "    def draw_single(x): \n",
    "        with torch.no_grad():\n",
    "            plt.imshow(x.detach().cpu().numpy().reshape((img_size, img_size)), cmap='gray');\n",
    "            plt.axis('off');\n",
    "    if len(X.shape)==4 or len(X.shape)==2:  # display a batch\n",
    "        N = X.shape[0]\n",
    "        plt.figure(figsize=(15,3))\n",
    "        for k,xx in enumerate(X):\n",
    "            plt.subplot(1,10,k+1)\n",
    "            draw_single(xx)\n",
    "    else:\n",
    "        draw_single(X)"
   ]
  },
  {
   "cell_type": "code",
   "execution_count": null,
   "metadata": {},
   "outputs": [],
   "source": [
    "# Batched, for training\n",
    "batch_size_train = 32\n",
    "train_dl = torch.utils.data.DataLoader(ds_train, batch_size=batch_size_train, shuffle=True)"
   ]
  },
  {
   "cell_type": "code",
   "execution_count": 42,
   "metadata": {},
   "outputs": [
    {
     "name": "stdout",
     "output_type": "stream",
     "text": [
      "torch.Size([32, 1, 28, 28])\n",
      "tensor([6, 7, 0, 3, 9, 1, 2, 0, 1, 6, 4, 3, 4, 0, 5, 1, 1, 1, 4, 3, 9, 3, 7, 2,\n",
      "        1, 3, 1, 5, 5, 7, 0, 2])\n"
     ]
    }
   ],
   "source": [
    "x,t = next(iter(train_dl))\n",
    "print(x.shape)\n",
    "print(t)"
   ]
  },
  {
   "cell_type": "code",
   "execution_count": 43,
   "metadata": {},
   "outputs": [
    {
     "data": {
      "image/png": "[encoded data removed]",
      "text/plain": [
       "<Figure size 1080x216 with 8 Axes>"
      ]
     },
     "metadata": {
      "needs_background": "light"
     },
     "output_type": "display_data"
    }
   ],
   "source": [
    "draw(x[:8])"
   ]
  },
  {
   "cell_type": "markdown",
   "metadata": {},
   "source": [
    "# GAN classes"
   ]
  },
  {
   "cell_type": "markdown",
   "metadata": {},
   "source": [
    "## CNN GAN"
   ]
  },
  {
   "cell_type": "code",
   "execution_count": 65,
   "metadata": {
    "jupyter": {
     "source_hidden": true
    }
   },
   "outputs": [],
   "source": [
    "class gan(nn.Module):\n",
    "    def __init__(self):\n",
    "        super().__init__()\n",
    "        self.z_dim = 100\n",
    "        self.losses_D = []\n",
    "        self.losses_G = []\n",
    "        \n",
    "        # D: Convolution part of the discriminator\n",
    "        self.D = nn.Sequential(\n",
    "            nn.Conv2d(1, 64, 3), nn.ReLU(),\n",
    "            nn.Conv2d(64, 128, 3), nn.ReLU(),\n",
    "            nn.Conv2d(128, 64, 3), nn.ReLU(),\n",
    "            nn.Flatten(start_dim=1),\n",
    "        )\n",
    "        \n",
    "        # Dhead: Output of the discriminator, Dhead\n",
    "        blah = torch.zeros((3, 1, 28, 28))\n",
    "        pen_dim = self.D(blah).shape[-1]\n",
    "        self.Dhead = nn.Sequential(nn.Linear(pen_dim, 1), nn.Sigmoid())\n",
    "        \n",
    "        # Discriminator: D -> Dhead\n",
    "        self.Discriminator = nn.Sequential(self.D, self.Dhead)\n",
    "        \n",
    "        # G: Generator\n",
    "        self.G = nn.Sequential(\n",
    "            nn.Linear(self.z_dim, pen_dim),\n",
    "            nn.Unflatten(-1, (64,22,22)), nn.ReLU(),  # can use Unflatten, defined above\n",
    "            nn.ConvTranspose2d(64, 128, 3), nn.ReLU(),\n",
    "            nn.ConvTranspose2d(128, 64, 3), nn.ReLU(),\n",
    "            nn.ConvTranspose2d(64, 1, 3), nn.Tanh(),\n",
    "        )\n",
    "        \n",
    "        self.D_loss_fcn = nn.BCELoss()\n",
    "        self.G_loss_fcn = nn.BCELoss()\n",
    "        self.to(device)\n",
    "                \n",
    "    def forward(self, x):\n",
    "        return self.discriminate(x)\n",
    "    \n",
    "    def discriminate(self, x):\n",
    "        '''\n",
    "         y = net.discriminate(x)\n",
    "         \n",
    "         Runs the discriminative network on a batch of inputs.\n",
    "         \n",
    "         Inputs:\n",
    "          x   [D,<input shape>] batch of inputs\n",
    "              where <input shape> is [1,28,28]\n",
    "          \n",
    "         Outputs:\n",
    "          y   Dx1 batch of outputs\n",
    "        '''\n",
    "        #z = self.D(x)\n",
    "        return self.Discriminator(x).squeeze()\n",
    "        \n",
    "    def generate(self, n=1):\n",
    "        '''\n",
    "         y = net.generate(n=1)\n",
    "         \n",
    "         Generates a batch of n inputs using random latent-vector seeds.\n",
    "         \n",
    "         Inputs:\n",
    "          n   number of inputs to generate\n",
    "          \n",
    "         Outputs:\n",
    "          y   [n,<input shape>] batch of generated inputs\n",
    "              where <input shape> is [1,28,28]\n",
    "        '''\n",
    "        z = torch.normal(torch.zeros((n,self.z_dim,)), 1.).to(device)\n",
    "        return self.G(z)\n",
    "        \n",
    "    def learn(self, dl, epochs=10, lr=0.0001):\n",
    "        optim_D = torch.optim.Adam(self.Discriminator.parameters(), lr=lr)\n",
    "        optim_G = torch.optim.Adam(self.G.parameters(), lr=lr*2.)\n",
    "        for epoch in tqdm(range(epochs)):\n",
    "            total_D_loss = 0.\n",
    "            total_G_loss = 0.\n",
    "            for x,t in dl:\n",
    "                x = x.to(device)\n",
    "                t = t.to(device)\n",
    "                bs = len(t)\n",
    "                \n",
    "                # Generate some inputs\n",
    "                z = torch.normal(torch.zeros((bs, self.z_dim)), 1.).to(device) # seeds\n",
    "                x_gen = self.G(z)  # This is the FF pass of the Generator!\n",
    "                \n",
    "                # Concat. legit and generated samples together into 1 batch\n",
    "                x_both = torch.cat((x, x_gen))\n",
    "                t_both = torch.cat( ( torch.ones((bs,)), torch.zeros((bs,)) ) ).to(device)\n",
    "                \n",
    "                # FF pass on the Discriminator\n",
    "                y = self.discriminate(x_both)\n",
    "                \n",
    "                # Discriminator loss (for both true and generated inputs)\n",
    "                loss_D = self.D_loss_fcn(y, t_both)\n",
    "                \n",
    "                # Gradient step for Discriminator\n",
    "                optim_D.zero_grad()\n",
    "                loss_D.backward()\n",
    "                optim_D.step()\n",
    "                \n",
    "                # Generator loss\n",
    "                # (just process the fake images made by the generator)\n",
    "                # Just like creating an adversarial input, we choose the target\n",
    "                # we want (t=1), and push the gradient down through the network.\n",
    "                z = torch.normal(torch.zeros((bs, self.z_dim)), 1.).to(device) # seeds\n",
    "                y_gen = self.discriminate( self.G(z) ) # FF through both networks z->G->D->y\n",
    "                loss_G = self.G_loss_fcn(y_gen, torch.ones((len(z),)).to(device) )\n",
    "                optim_G.zero_grad()\n",
    "                loss_G.backward()\n",
    "                optim_G.step()\n",
    "                \n",
    "                total_D_loss += loss_D.item()*len(t)/2.\n",
    "                total_G_loss += loss_G.item()*len(t)\n",
    "            self.losses_D.append(total_D_loss/len(dl.dataset))\n",
    "            self.losses_G.append(total_G_loss/len(dl.dataset))\n",
    "        plt.plot(self.losses_D); plt.plot(self.losses_G);\n",
    "        plt.legend(['Disc.', 'Gen.']);\n",
    "        plt.xlabel('Epochs'); plt.yscale('log');"
   ]
  },
  {
   "cell_type": "markdown",
   "metadata": {
    "heading_collapsed": true
   },
   "source": [
    "## Fully-connected GAN"
   ]
  },
  {
   "cell_type": "code",
   "execution_count": 13,
   "metadata": {
    "hidden": true
   },
   "outputs": [],
   "source": [
    "class gan(nn.Module):\n",
    "    def __init__(self):\n",
    "        super().__init__()\n",
    "        self.z_dim = 100\n",
    "        self.losses_D = []\n",
    "        self.losses_G = []\n",
    "        self.D = nn.Sequential(\n",
    "            nn.Linear(784, 256), nn.ReLU(),\n",
    "            nn.Linear(256, 128), nn.ReLU(),\n",
    "            nn.Linear(128, 1), nn.Sigmoid(),\n",
    "        )\n",
    "        self.Discriminator = self.D\n",
    "        \n",
    "        self.G = nn.Sequential(\n",
    "            nn.Linear(self.z_dim, 128), nn.ReLU(),\n",
    "            nn.Linear(128, 256), nn.ReLU(),\n",
    "            nn.Linear(256, 784), nn.Tanh(),\n",
    "        )\n",
    "        self.D_loss_fcn = nn.BCELoss()\n",
    "        self.G_loss_fcn = nn.BCELoss()\n",
    "        self.to(device)\n",
    "                \n",
    "    def forward(self, x):\n",
    "        return self.discriminate(x)\n",
    "    \n",
    "    def discriminate(self, x):\n",
    "        '''\n",
    "         y = net.discriminate(x)\n",
    "         \n",
    "         Runs the discriminative network on a batch of inputs.\n",
    "         \n",
    "         Inputs:\n",
    "          x   [D,<input shape>] batch of inputs\n",
    "              where <input shape> is [1,28,28]\n",
    "          \n",
    "         Outputs:\n",
    "          y   Dx1 batch of outputs\n",
    "        '''\n",
    "        #z = self.D(x)\n",
    "        return self.Discriminator(x).squeeze()\n",
    "        \n",
    "    def generate(self, n=1):\n",
    "        '''\n",
    "         y = net.generate(n=1)\n",
    "         \n",
    "         Generates a batch of n inputs using random latent-vector seeds.\n",
    "         \n",
    "         Inputs:\n",
    "          n   number of inputs to generate\n",
    "          \n",
    "         Outputs:\n",
    "          y   [n,<input shape>] batch of generated inputs\n",
    "              where <input shape> is [1,28,28]\n",
    "        '''\n",
    "        z = torch.normal(torch.zeros((n,self.z_dim,)), 1.).to(device)\n",
    "        return self.G(z)\n",
    "        \n",
    "    def learn(self, dl, epochs=10, lr=0.0001):\n",
    "        optim_D = torch.optim.Adam(self.Discriminator.parameters(), lr=lr)\n",
    "        optim_G = torch.optim.Adam(self.G.parameters(), lr=lr*2.)\n",
    "        for epoch in tqdm(range(epochs)):\n",
    "            total_D_loss = 0.\n",
    "            total_G_loss = 0.\n",
    "            for x,t in dl:\n",
    "                x = x.to(device)\n",
    "                t = t.to(device)\n",
    "                bs = len(t)\n",
    "                \n",
    "                # Generate some inputs\n",
    "                z = torch.normal(torch.zeros((bs, self.z_dim)), 1.).to(device) # seeds\n",
    "                x_gen = self.G(z)  # This is the FF pass of the Generator!\n",
    "                \n",
    "                # Concat. legit and generated samples together into 1 batch\n",
    "                x_both = torch.cat((x, x_gen))\n",
    "                t_both = torch.cat( ( torch.ones((bs,)), torch.zeros((bs,)) ) ).to(device)\n",
    "                \n",
    "                # FF pass on the Discriminator\n",
    "                y = self.discriminate(x_both)\n",
    "                \n",
    "                # Discriminator loss (for both true and generated inputs)\n",
    "                loss_D = self.D_loss_fcn(y, t_both)\n",
    "                \n",
    "                # Gradient step for Discriminator\n",
    "                optim_D.zero_grad()\n",
    "                loss_D.backward()\n",
    "                optim_D.step()\n",
    "                \n",
    "                # Generator loss\n",
    "                # (just process the fake images made by the generator)\n",
    "                # Just like creating an adversarial input, we choose the target\n",
    "                # we want (t=1), and push the gradient down through the network.\n",
    "                z = torch.normal(torch.zeros((bs, self.z_dim)), 1.).to(device) # seeds\n",
    "                y_gen = self.discriminate( self.G(z) ) # FF through both networks z->G->D->y\n",
    "                loss_G = self.G_loss_fcn(y_gen, torch.ones((len(z),)).to(device) )\n",
    "                optim_G.zero_grad()\n",
    "                loss_G.backward()\n",
    "                optim_G.step()\n",
    "                \n",
    "                total_D_loss += loss_D.item()*len(t)/2.\n",
    "                total_G_loss += loss_G.item()*len(t)\n",
    "            self.losses_D.append(total_D_loss/len(dl.dataset))\n",
    "            self.losses_G.append(total_G_loss/len(dl.dataset))\n",
    "        plt.plot(self.losses_D); plt.plot(self.losses_G);\n",
    "        plt.legend(['Disc.', 'Gen.']);\n",
    "        plt.xlabel('Epochs'); plt.yscale('log');"
   ]
  },
  {
   "cell_type": "markdown",
   "metadata": {},
   "source": [
    "# Train it and test it"
   ]
  },
  {
   "cell_type": "code",
   "execution_count": 66,
   "metadata": {},
   "outputs": [],
   "source": [
    "net = gan()"
   ]
  },
  {
   "cell_type": "code",
   "execution_count": 67,
   "metadata": {},
   "outputs": [
    {
     "name": "stderr",
     "output_type": "stream",
     "text": [
      "100%|██████████| 1/1 [00:36<00:00, 36.15s/it]\n"
     ]
    },
    {
     "data": {
      "image/png": "[encoded data removed]",
      "text/plain": [
       "<Figure size 432x288 with 1 Axes>"
      ]
     },
     "metadata": {
      "needs_background": "light"
     },
     "output_type": "display_data"
    }
   ],
   "source": [
    "net.learn(train_dl, epochs=1, lr=0.0001)"
   ]
  },
  {
   "cell_type": "code",
   "execution_count": 61,
   "metadata": {},
   "outputs": [],
   "source": [
    "torch.save(net.to('cpu'), 'gan_demo.pt')\n",
    "net = torch.load('gan_demo.pt', map_location=device); net.to(device);\n",
    "#net = torch.load('gan_cnn_demo.pt', map_location=device); net.to(device);\n",
    "net.to(device);"
   ]
  },
  {
   "cell_type": "code",
   "execution_count": 68,
   "metadata": {},
   "outputs": [
    {
     "name": "stdout",
     "output_type": "stream",
     "text": [
      "torch.Size([32])\n",
      "[0.9995976  0.99987924 0.99999213 0.9728458  0.9992937  0.99966145\n",
      " 0.9958405  0.99729985 0.99934846 0.9995372  0.9999914  0.9999858\n",
      " 0.9999454  0.99951744 0.99701595 0.99998665 0.9992716  0.99997616\n",
      " 0.9999987  0.9999825  0.9970663  0.9999597  0.99997723 0.99999845\n",
      " 0.9993861  0.9999449  0.9981408  0.99997807 0.99973375 0.9889237\n",
      " 0.99971586 0.96776104]\n"
     ]
    },
    {
     "data": {
      "image/png": "[encoded data removed]",
      "text/plain": [
       "<Figure size 1080x216 with 10 Axes>"
      ]
     },
     "metadata": {
      "needs_background": "light"
     },
     "output_type": "display_data"
    }
   ],
   "source": [
    "x,t = next(iter(train_dl))\n",
    "y = net.discriminate(x.to(device))\n",
    "print(y.shape)\n",
    "draw(x[:10]);\n",
    "print(f'{y.detach().cpu().numpy()}')"
   ]
  },
  {
   "cell_type": "code",
   "execution_count": 69,
   "metadata": {},
   "outputs": [
    {
     "name": "stdout",
     "output_type": "stream",
     "text": [
      "tensor([0.0090, 0.0090, 0.0090, 0.0090, 0.0090, 0.0090, 0.0090, 0.0090, 0.0090,\n",
      "        0.0090], grad_fn=<SqueezeBackward0>)\n"
     ]
    },
    {
     "data": {
      "image/png": "[encoded data removed]",
      "text/plain": [
       "<Figure size 1080x216 with 10 Axes>"
      ]
     },
     "metadata": {
      "needs_background": "light"
     },
     "output_type": "display_data"
    }
   ],
   "source": [
    "x = net.generate(n=10).to(device)\n",
    "y = net(x)\n",
    "draw(x[:10])\n",
    "print(y)"
   ]
  },
  {
   "cell_type": "code",
   "execution_count": null,
   "metadata": {},
   "outputs": [],
   "source": []
  }
 ],
 "metadata": {
  "kernelspec": {
   "display_name": "Python 3",
   "language": "python",
   "name": "python3"
  },
  "language_info": {
   "codemirror_mode": {
    "name": "ipython",
    "version": 3
   },
   "file_extension": ".py",
   "mimetype": "text/x-python",
   "name": "python",
   "nbconvert_exporter": "python",
   "pygments_lexer": "ipython3",
   "version": "3.8.3"
  }
 },
 "nbformat": 4,
 "nbformat_minor": 4
}
