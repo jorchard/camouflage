{
 "cells": [
  {
   "cell_type": "markdown",
   "metadata": {},
   "source": [
    "# Generative Adversarial Network (GAN)"
   ]
  },
  {
   "cell_type": "code",
   "execution_count": 1,
   "metadata": {},
   "outputs": [],
   "source": [
    "import numpy as np\n",
    "import torch\n",
    "import torch.nn as nn\n",
    "import torchvision\n",
    "import matplotlib.pyplot as plt\n",
    "from tqdm import tqdm\n",
    "device = 'cuda' if torch.cuda.is_available() else 'cpu'"
   ]
  },
  {
   "cell_type": "code",
   "execution_count": 2,
   "metadata": {},
   "outputs": [],
   "source": [
    "def accuracy(net, dl):\n",
    "    acc = 0.\n",
    "    for x,t in dl:\n",
    "        y = net(x)\n",
    "        k = torch.argmax(y, dim=-1)\n",
    "        acc += torch.sum(k==t)\n",
    "    return acc.item() / len(dl.dataset)"
   ]
  },
  {
   "cell_type": "code",
   "execution_count": 3,
   "metadata": {},
   "outputs": [],
   "source": [
    "# PyTorch 1.7 includes a layer called Unflatten, which undoes what Flatten does.\n",
    "# If your torch version is <1.7, then you can use this class in its place.\n",
    "class Unflatten(nn.Module):\n",
    "    '''\n",
    "     Unflatten(dim, unflatten_size)\n",
    "     \n",
    "     Reshapes a DxN tensor to Dx(*unflatten_size).\n",
    "     The first argument, dim, is actually IGNORED, but is included here\n",
    "     for compatibility with nn.Unflatten.\n",
    "     \n",
    "     Usage:\n",
    "       x = torch.random(10,50)  # x is 10x50\n",
    "       lyr = Unflatten(1, (2,5,5))\n",
    "       y = lyr(x)   # produces y with dimensions (10,2,5,5)\n",
    "    '''\n",
    "    def __init__(self, dim, shape):\n",
    "        super().__init__()\n",
    "        self.start_dim = dim\n",
    "        self.shape = shape\n",
    "        \n",
    "    def forward(self, x):\n",
    "        return torch.reshape(x, (x.shape[0], *self.shape))"
   ]
  },
  {
   "cell_type": "markdown",
   "metadata": {},
   "source": [
    "# Dataset"
   ]
  },
  {
   "cell_type": "code",
   "execution_count": 194,
   "metadata": {},
   "outputs": [],
   "source": [
    "# Use this for fully-connected network\n",
    "ds_train_full = torchvision.datasets.MNIST('./files/', train=True, download=True,\n",
    "                            transform=torchvision.transforms.Compose([\n",
    "                            torchvision.transforms.ToTensor(),\n",
    "                            torchvision.transforms.Normalize((0.5,),(0.5,)),\n",
    "                            torchvision.transforms.Lambda((lambda x: torch.flatten(x))),\n",
    "                            ]))"
   ]
  },
  {
   "cell_type": "code",
   "execution_count": 225,
   "metadata": {},
   "outputs": [],
   "source": [
    "# Use this for CNN\n",
    "# ds_train_full = torchvision.datasets.MNIST('./files/', train=True, download=True,\n",
    "#                             transform=torchvision.transforms.Compose([\n",
    "#                             torchvision.transforms.ToTensor(),\n",
    "#                             torchvision.transforms.Normalize((0.5,),(0.5,)),\n",
    "#                             ]))"
   ]
  },
  {
   "cell_type": "markdown",
   "metadata": {},
   "source": [
    "## Process"
   ]
  },
  {
   "cell_type": "code",
   "execution_count": 195,
   "metadata": {},
   "outputs": [],
   "source": [
    "#ds_train = torch.utils.data.Subset(ds_train_full, range(5000))\n",
    "ds_train = ds_train_full"
   ]
  },
  {
   "cell_type": "code",
   "execution_count": 196,
   "metadata": {},
   "outputs": [],
   "source": [
    "x,t = ds_train.__getitem__(0)"
   ]
  },
  {
   "cell_type": "code",
   "execution_count": 197,
   "metadata": {},
   "outputs": [],
   "source": [
    "def draw(X):\n",
    "    img_size = 28\n",
    "    def draw_single(x): \n",
    "        with torch.no_grad():\n",
    "            plt.imshow(x.detach().cpu().numpy().reshape((img_size, img_size)), cmap='gray');\n",
    "            plt.axis('off');\n",
    "    if len(X.shape)==4 or len(X.shape)==2:  # display a batch\n",
    "        N = X.shape[0]\n",
    "        plt.figure(figsize=(15,3))\n",
    "        for k,xx in enumerate(X):\n",
    "            plt.subplot(1,10,k+1)\n",
    "            draw_single(xx)\n",
    "    else:\n",
    "        draw_single(X)"
   ]
  },
  {
   "cell_type": "code",
   "execution_count": 198,
   "metadata": {},
   "outputs": [],
   "source": [
    "# Batched, for training\n",
    "batch_size_train = 32\n",
    "train_dl = torch.utils.data.DataLoader(ds_train, batch_size=batch_size_train, shuffle=True)"
   ]
  },
  {
   "cell_type": "code",
   "execution_count": 199,
   "metadata": {},
   "outputs": [
    {
     "name": "stdout",
     "output_type": "stream",
     "text": [
      "torch.Size([32, 784])\n",
      "tensor([9, 1, 1, 5, 7, 4, 4, 8, 9, 2, 1, 6, 1, 0, 8, 4, 1, 0, 3, 5, 1, 2, 0, 0,\n",
      "        9, 5, 3, 0, 9, 9, 3, 3])\n"
     ]
    }
   ],
   "source": [
    "x,t = next(iter(train_dl))\n",
    "print(x.shape)\n",
    "print(t)"
   ]
  },
  {
   "cell_type": "code",
   "execution_count": 200,
   "metadata": {},
   "outputs": [
    {
     "data": {
      "image/png": "[encoded data removed]",
      "text/plain": [
       "<Figure size 1080x216 with 8 Axes>"
      ]
     },
     "metadata": {
      "needs_background": "light"
     },
     "output_type": "display_data"
    }
   ],
   "source": [
    "draw(x[:8])"
   ]
  },
  {
   "cell_type": "markdown",
   "metadata": {},
   "source": [
    "# GAN classes"
   ]
  },
  {
   "cell_type": "markdown",
   "metadata": {},
   "source": [
    "## CNN GAN\n",
    "This CNN GAN does not work for some reason. It trains, etc, but does not generate digit-like images."
   ]
  },
  {
   "cell_type": "code",
   "execution_count": 226,
   "metadata": {},
   "outputs": [],
   "source": [
    "# class gan(nn.Module):\n",
    "#     def __init__(self):\n",
    "#         super().__init__()\n",
    "#         self.z_dim = 100\n",
    "#         self.losses_D = []\n",
    "#         self.losses_G = []\n",
    "        \n",
    "#         # D: Convolution part of the discriminator\n",
    "#         self.D = nn.Sequential(\n",
    "#             nn.Conv2d(1, 64, 3), nn.ReLU(),\n",
    "#             nn.Conv2d(64, 128, 3), nn.ReLU(),\n",
    "#             nn.Conv2d(128, 64, 3), nn.ReLU(),\n",
    "#             nn.Flatten(start_dim=1),\n",
    "#         )\n",
    "        \n",
    "#         # Dhead: Output of the discriminator, Dhead\n",
    "#         blah = torch.zeros((3, 1, 28, 28))\n",
    "#         pen_dim = self.D(blah).shape[-1]\n",
    "#         self.Dhead = nn.Sequential(nn.Linear(pen_dim, 1), nn.Sigmoid())\n",
    "        \n",
    "#         # Discriminator: D -> Dhead\n",
    "#         self.Discriminator = nn.Sequential(self.D, self.Dhead)\n",
    "        \n",
    "#         # G: Generator\n",
    "#         self.G = nn.Sequential(\n",
    "#             nn.Linear(self.z_dim, pen_dim),\n",
    "#             Unflatten(-1, (64,22,22)), nn.ReLU(),  # can use Unflatten, defined above\n",
    "#             nn.ConvTranspose2d(64, 128, 3), nn.ReLU(),\n",
    "#             nn.ConvTranspose2d(128, 64, 3), nn.ReLU(),\n",
    "#             nn.ConvTranspose2d(64, 1, 3), nn.Tanh(),\n",
    "#         )\n",
    "        \n",
    "#         self.D_loss_fcn = nn.BCELoss()\n",
    "#         self.G_loss_fcn = nn.BCELoss()\n",
    "#         self.to(device)\n",
    "                \n",
    "#     def forward(self, x):\n",
    "#         return self.discriminate(x)\n",
    "    \n",
    "#     def discriminate(self, x):\n",
    "#         '''\n",
    "#          y = net.discriminate(x)\n",
    "         \n",
    "#          Runs the discriminative network on a batch of inputs.\n",
    "         \n",
    "#          Inputs:\n",
    "#           x   [D,<input shape>] batch of inputs\n",
    "#               where <input shape> is [1,28,28]\n",
    "          \n",
    "#          Outputs:\n",
    "#           y   Dx1 batch of outputs\n",
    "#         '''\n",
    "#         #z = self.D(x)\n",
    "#         return self.Discriminator(x).squeeze()\n",
    "        \n",
    "#     def generate(self, n=1):\n",
    "#         '''\n",
    "#          y = net.generate(n=1)\n",
    "         \n",
    "#          Generates a batch of n inputs using random latent-vector seeds.\n",
    "         \n",
    "#          Inputs:\n",
    "#           n   number of inputs to generate\n",
    "          \n",
    "#          Outputs:\n",
    "#           y   [n,<input shape>] batch of generated inputs\n",
    "#               where <input shape> is [1,28,28]\n",
    "#         '''\n",
    "#         z = torch.normal(torch.zeros((n,self.z_dim,)), 1.).to(device)\n",
    "#         return self.G(z)\n",
    "        \n",
    "#     def learn(self, dl, epochs=10, lr=0.0001):\n",
    "#         optim_D = torch.optim.Adam(self.Discriminator.parameters(), lr=lr)\n",
    "#         optim_G = torch.optim.Adam(self.G.parameters(), lr=lr*2.)\n",
    "#         for epoch in tqdm(range(epochs)):\n",
    "#             total_D_loss = 0.\n",
    "#             total_G_loss = 0.\n",
    "#             for x,t in dl:\n",
    "#                 x = x.to(device)\n",
    "#                 t = t.to(device)\n",
    "#                 bs = len(t)\n",
    "                \n",
    "#                 # Generate some inputs\n",
    "#                 z = torch.normal(torch.zeros((bs, self.z_dim)), 1.).to(device) # seeds\n",
    "#                 x_gen = self.G(z)  # This is the FF pass of the Generator!\n",
    "                \n",
    "#                 # Concat. legit and generated samples together into 1 batch\n",
    "#                 x_both = torch.cat((x, x_gen))\n",
    "#                 t_both = torch.cat( ( torch.ones((bs,)), torch.zeros((bs,)) ) ).to(device)\n",
    "                \n",
    "#                 # FF pass on the Discriminator\n",
    "#                 y = self.discriminate(x_both)\n",
    "                \n",
    "#                 # Discriminator loss (for both true and generated inputs)\n",
    "#                 loss_D = self.D_loss_fcn(y, t_both)\n",
    "                \n",
    "#                 # Gradient step for Discriminator\n",
    "#                 optim_D.zero_grad()\n",
    "#                 loss_D.backward()\n",
    "#                 optim_D.step()\n",
    "                \n",
    "#                 # Generator loss\n",
    "#                 # (just process the fake images made by the generator)\n",
    "#                 # Just like creating an adversarial input, we choose the target\n",
    "#                 # we want (t=1), and push the gradient down through the network.\n",
    "#                 z = torch.normal(torch.zeros((bs, self.z_dim)), 1.).to(device) # seeds\n",
    "#                 y_gen = self.discriminate( self.G(z) ) # FF through both networks z->G->D->y\n",
    "#                 loss_G = self.G_loss_fcn(y_gen, torch.ones((len(z),)).to(device) )\n",
    "#                 optim_G.zero_grad()\n",
    "#                 loss_G.backward()\n",
    "#                 optim_G.step()\n",
    "                \n",
    "#                 total_D_loss += loss_D.item()*len(t)\n",
    "#                 total_G_loss += loss_G.item()*len(t)\n",
    "#             self.losses_D.append(total_D_loss/len(dl.dataset))\n",
    "#             self.losses_G.append(total_G_loss/len(dl.dataset))\n",
    "#         plt.plot(self.losses_D); plt.plot(self.losses_G);\n",
    "#         plt.legend(['Disc.', 'Gen.']);\n",
    "#         plt.xlabel('Epochs'); plt.yscale('log');"
   ]
  },
  {
   "cell_type": "markdown",
   "metadata": {
    "heading_collapsed": true
   },
   "source": [
    "## Fully-connected GAN"
   ]
  },
  {
   "cell_type": "code",
   "execution_count": 241,
   "metadata": {
    "hidden": true
   },
   "outputs": [],
   "source": [
    "class gan(nn.Module):\n",
    "    def __init__(self):\n",
    "        super().__init__()\n",
    "        self.z_dim = 100\n",
    "        self.losses_D = []\n",
    "        self.losses_G = []\n",
    "        self.D = nn.Sequential(\n",
    "            nn.Linear(784, 256), nn.ReLU(),\n",
    "            nn.Linear(256, 128), nn.ReLU(),\n",
    "            nn.Linear(128, 1), nn.Sigmoid(),\n",
    "        )\n",
    "        self.Discriminator = self.D\n",
    "        \n",
    "        self.G = nn.Sequential(\n",
    "            nn.Linear(self.z_dim, 128), nn.ReLU(),\n",
    "            nn.Linear(128, 256), nn.ReLU(),\n",
    "            nn.Linear(256, 784), nn.Tanh(),\n",
    "        )\n",
    "        self.D_loss_fcn = nn.BCELoss()\n",
    "        self.G_loss_fcn = nn.MSELoss()\n",
    "        self.to(device)\n",
    "                \n",
    "    def forward(self, x):\n",
    "        return self.discriminate(x)\n",
    "    \n",
    "    def discriminate(self, x):\n",
    "        '''\n",
    "         y = net.discriminate(x)\n",
    "         \n",
    "         Runs the discriminative network on a batch of inputs.\n",
    "         \n",
    "         Inputs:\n",
    "          x   [D,<input shape>] batch of inputs\n",
    "              where <input shape> is [1,28,28]\n",
    "          \n",
    "         Outputs:\n",
    "          y   Dx1 batch of outputs\n",
    "        '''\n",
    "        #z = self.D(x)\n",
    "        return self.Discriminator(x).squeeze()\n",
    "        \n",
    "    def generate(self, n=1):\n",
    "        '''\n",
    "         y = net.generate(n=1)\n",
    "         \n",
    "         Generates a batch of n inputs using random latent-vector seeds.\n",
    "         \n",
    "         Inputs:\n",
    "          n   number of inputs to generate\n",
    "          \n",
    "         Outputs:\n",
    "          y   [n,<input shape>] batch of generated inputs\n",
    "              where <input shape> is [1,28,28]\n",
    "        '''\n",
    "        z = torch.normal(torch.zeros((n,self.z_dim,)), 1.).to(device)\n",
    "        return self.G(z)\n",
    "        \n",
    "    def learn(self, dl, epochs=10, lr=0.0001):\n",
    "        optim_D = torch.optim.Adam(self.Discriminator.parameters(), lr=lr)\n",
    "        optim_G = torch.optim.Adam(self.G.parameters(), lr=lr*2.)\n",
    "        for epoch in tqdm(range(epochs)):\n",
    "            total_D_loss = 0.\n",
    "            total_G_loss = 0.\n",
    "            for x,t in dl:\n",
    "                x = x.to(device)\n",
    "                t = t.to(device)\n",
    "                bs = len(t)\n",
    "                \n",
    "                # Generate some inputs\n",
    "                z = torch.normal(torch.zeros((bs, self.z_dim)), 1.).to(device) # seeds\n",
    "                x_gen = self.G(z)  # This is the FF pass of the Generator!\n",
    "                \n",
    "                # Concat. legit and generated samples together into 1 batch\n",
    "                x_both = torch.cat((x, x_gen))\n",
    "                t_both = torch.cat( ( torch.ones((bs,)), torch.zeros((bs,)) ) ).to(device)\n",
    "                \n",
    "                # FF pass on the Discriminator\n",
    "                y = self.discriminate(x_both)\n",
    "                \n",
    "                # Discriminator loss (for both true and generated inputs)\n",
    "                loss_D = self.D_loss_fcn(y, t_both)\n",
    "                \n",
    "                # Gradient step for Discriminator\n",
    "                optim_D.zero_grad()\n",
    "                loss_D.backward()\n",
    "                optim_D.step()\n",
    "                \n",
    "                # Generator loss\n",
    "                # (just process the fake images made by the generator)\n",
    "                # Just like creating an adversarial input, we choose the target\n",
    "                # we want (t=1), and push the gradient down through the network.\n",
    "                z = torch.normal(torch.zeros((bs, self.z_dim)), 1.).to(device) # seeds\n",
    "                y_gen = self.discriminate( self.G(z) ) # FF through both networks z->G->D->y\n",
    "                loss_G = self.G_loss_fcn(y_gen, torch.ones((len(z),)).to(device) )\n",
    "                optim_G.zero_grad()\n",
    "                loss_G.backward()\n",
    "                optim_G.step()\n",
    "                \n",
    "                total_D_loss += loss_D.item()*len(t)/2.\n",
    "                total_G_loss += loss_G.item()*len(t)\n",
    "            self.losses_D.append(total_D_loss/len(dl.dataset))\n",
    "            self.losses_G.append(total_G_loss/len(dl.dataset))\n",
    "        plt.plot(self.losses_D); plt.plot(self.losses_G);\n",
    "        plt.legend(['Disc.', 'Gen.']);\n",
    "        plt.xlabel('Epochs'); plt.yscale('log');"
   ]
  },
  {
   "cell_type": "markdown",
   "metadata": {},
   "source": [
    "# Train it and test it"
   ]
  },
  {
   "cell_type": "code",
   "execution_count": 244,
   "metadata": {},
   "outputs": [],
   "source": [
    "net = gan()"
   ]
  },
  {
   "cell_type": "code",
   "execution_count": null,
   "metadata": {},
   "outputs": [
    {
     "name": "stderr",
     "output_type": "stream",
     "text": [
      "  5%|▌         | 5/100 [01:47<34:27, 21.76s/it]"
     ]
    }
   ],
   "source": [
    "net.learn(train_dl, epochs=100, lr=0.0001)"
   ]
  },
  {
   "cell_type": "code",
   "execution_count": 242,
   "metadata": {},
   "outputs": [
    {
     "ename": "PicklingError",
     "evalue": "Can't pickle <class '__main__.gan'>: it's not the same object as __main__.gan",
     "output_type": "error",
     "traceback": [
      "\u001b[0;31m---------------------------------------------------------------------------\u001b[0m",
      "\u001b[0;31mPicklingError\u001b[0m                             Traceback (most recent call last)",
      "\u001b[0;32m<ipython-input-242-daaa230cbc2d>\u001b[0m in \u001b[0;36m<module>\u001b[0;34m\u001b[0m\n\u001b[0;32m----> 1\u001b[0;31m \u001b[0mtorch\u001b[0m\u001b[0;34m.\u001b[0m\u001b[0msave\u001b[0m\u001b[0;34m(\u001b[0m\u001b[0mnet\u001b[0m\u001b[0;34m.\u001b[0m\u001b[0mto\u001b[0m\u001b[0;34m(\u001b[0m\u001b[0;34m'cpu'\u001b[0m\u001b[0;34m)\u001b[0m\u001b[0;34m,\u001b[0m \u001b[0;34m'gan_demo.pt'\u001b[0m\u001b[0;34m)\u001b[0m\u001b[0;34m\u001b[0m\u001b[0;34m\u001b[0m\u001b[0m\n\u001b[0m\u001b[1;32m      2\u001b[0m \u001b[0;31m#net = torch.load('gan_demo.pt', map_location=device); net.to(device);\u001b[0m\u001b[0;34m\u001b[0m\u001b[0;34m\u001b[0m\u001b[0;34m\u001b[0m\u001b[0m\n\u001b[1;32m      3\u001b[0m \u001b[0;31m#net = torch.load('gan_cnn_demo.pt', map_location=device); net.to(device);\u001b[0m\u001b[0;34m\u001b[0m\u001b[0;34m\u001b[0m\u001b[0;34m\u001b[0m\u001b[0m\n\u001b[1;32m      4\u001b[0m \u001b[0mnet\u001b[0m\u001b[0;34m.\u001b[0m\u001b[0mto\u001b[0m\u001b[0;34m(\u001b[0m\u001b[0mdevice\u001b[0m\u001b[0;34m)\u001b[0m\u001b[0;34m;\u001b[0m\u001b[0;34m\u001b[0m\u001b[0;34m\u001b[0m\u001b[0m\n",
      "\u001b[0;32m/opt/tljh/user/lib/python3.7/site-packages/torch/serialization.py\u001b[0m in \u001b[0;36msave\u001b[0;34m(obj, f, pickle_module, pickle_protocol, _use_new_zipfile_serialization)\u001b[0m\n\u001b[1;32m    368\u001b[0m \u001b[0;34m\u001b[0m\u001b[0m\n\u001b[1;32m    369\u001b[0m     \u001b[0;32mwith\u001b[0m \u001b[0m_open_file_like\u001b[0m\u001b[0;34m(\u001b[0m\u001b[0mf\u001b[0m\u001b[0;34m,\u001b[0m \u001b[0;34m'wb'\u001b[0m\u001b[0;34m)\u001b[0m \u001b[0;32mas\u001b[0m \u001b[0mopened_file\u001b[0m\u001b[0;34m:\u001b[0m\u001b[0;34m\u001b[0m\u001b[0;34m\u001b[0m\u001b[0m\n\u001b[0;32m--> 370\u001b[0;31m         \u001b[0m_legacy_save\u001b[0m\u001b[0;34m(\u001b[0m\u001b[0mobj\u001b[0m\u001b[0;34m,\u001b[0m \u001b[0mopened_file\u001b[0m\u001b[0;34m,\u001b[0m \u001b[0mpickle_module\u001b[0m\u001b[0;34m,\u001b[0m \u001b[0mpickle_protocol\u001b[0m\u001b[0;34m)\u001b[0m\u001b[0;34m\u001b[0m\u001b[0;34m\u001b[0m\u001b[0m\n\u001b[0m\u001b[1;32m    371\u001b[0m \u001b[0;34m\u001b[0m\u001b[0m\n\u001b[1;32m    372\u001b[0m \u001b[0;34m\u001b[0m\u001b[0m\n",
      "\u001b[0;32m/opt/tljh/user/lib/python3.7/site-packages/torch/serialization.py\u001b[0m in \u001b[0;36m_legacy_save\u001b[0;34m(obj, f, pickle_module, pickle_protocol)\u001b[0m\n\u001b[1;32m    441\u001b[0m     \u001b[0mpickler\u001b[0m \u001b[0;34m=\u001b[0m \u001b[0mpickle_module\u001b[0m\u001b[0;34m.\u001b[0m\u001b[0mPickler\u001b[0m\u001b[0;34m(\u001b[0m\u001b[0mf\u001b[0m\u001b[0;34m,\u001b[0m \u001b[0mprotocol\u001b[0m\u001b[0;34m=\u001b[0m\u001b[0mpickle_protocol\u001b[0m\u001b[0;34m)\u001b[0m\u001b[0;34m\u001b[0m\u001b[0;34m\u001b[0m\u001b[0m\n\u001b[1;32m    442\u001b[0m     \u001b[0mpickler\u001b[0m\u001b[0;34m.\u001b[0m\u001b[0mpersistent_id\u001b[0m \u001b[0;34m=\u001b[0m \u001b[0mpersistent_id\u001b[0m\u001b[0;34m\u001b[0m\u001b[0;34m\u001b[0m\u001b[0m\n\u001b[0;32m--> 443\u001b[0;31m     \u001b[0mpickler\u001b[0m\u001b[0;34m.\u001b[0m\u001b[0mdump\u001b[0m\u001b[0;34m(\u001b[0m\u001b[0mobj\u001b[0m\u001b[0;34m)\u001b[0m\u001b[0;34m\u001b[0m\u001b[0;34m\u001b[0m\u001b[0m\n\u001b[0m\u001b[1;32m    444\u001b[0m \u001b[0;34m\u001b[0m\u001b[0m\n\u001b[1;32m    445\u001b[0m     \u001b[0mserialized_storage_keys\u001b[0m \u001b[0;34m=\u001b[0m \u001b[0msorted\u001b[0m\u001b[0;34m(\u001b[0m\u001b[0mserialized_storages\u001b[0m\u001b[0;34m.\u001b[0m\u001b[0mkeys\u001b[0m\u001b[0;34m(\u001b[0m\u001b[0;34m)\u001b[0m\u001b[0;34m)\u001b[0m\u001b[0;34m\u001b[0m\u001b[0;34m\u001b[0m\u001b[0m\n",
      "\u001b[0;31mPicklingError\u001b[0m: Can't pickle <class '__main__.gan'>: it's not the same object as __main__.gan"
     ]
    }
   ],
   "source": [
    "torch.save(net.to('cpu'), 'gan_demo.pt')\n",
    "#net = torch.load('gan_demo.pt', map_location=device); net.to(device);\n",
    "#net = torch.load('gan_cnn_demo.pt', map_location=device); net.to(device);\n",
    "net.to(device);"
   ]
  },
  {
   "cell_type": "code",
   "execution_count": 223,
   "metadata": {},
   "outputs": [
    {
     "name": "stdout",
     "output_type": "stream",
     "text": [
      "torch.Size([32])\n",
      "[0.443236   0.5282718  0.853801   0.3866224  0.4575367  0.85814065\n",
      " 0.94178766 0.9417851  0.62838763 0.6680781  0.08755508 0.36027944\n",
      " 0.77734727 0.2342656  0.74902004 0.5949434  0.66046685 0.35609385\n",
      " 0.24797226 0.3471837  0.8213908  0.95323545 0.21414539 0.880276\n",
      " 0.38097632 0.658198   0.7474259  0.82940096 0.98209196 0.9055037\n",
      " 0.47142982 0.69342965]\n"
     ]
    },
    {
     "data": {
      "image/png": "[encoded data removed]",
      "text/plain": [
       "<Figure size 1080x216 with 10 Axes>"
      ]
     },
     "metadata": {
      "needs_background": "light"
     },
     "output_type": "display_data"
    }
   ],
   "source": [
    "x,t = next(iter(train_dl))\n",
    "y = net.discriminate(x.to(device))\n",
    "print(y.shape)\n",
    "draw(x[:10]);\n",
    "print(f'{y.detach().cpu().numpy()}')"
   ]
  },
  {
   "cell_type": "code",
   "execution_count": 224,
   "metadata": {},
   "outputs": [
    {
     "name": "stdout",
     "output_type": "stream",
     "text": [
      "tensor([0.2828, 0.2277, 0.0222, 0.0335, 0.2412, 0.1209, 0.4296, 0.4394, 0.4891,\n",
      "        0.1431], device='cuda:0', grad_fn=<SqueezeBackward0>)\n"
     ]
    },
    {
     "data": {
      "image/png": "[encoded data removed]",
      "text/plain": [
       "<Figure size 1080x216 with 10 Axes>"
      ]
     },
     "metadata": {
      "needs_background": "light"
     },
     "output_type": "display_data"
    }
   ],
   "source": [
    "x = net.generate(n=10).to(device)\n",
    "y = net(x)\n",
    "draw(x[:10])\n",
    "print(y)"
   ]
  },
  {
   "cell_type": "code",
   "execution_count": null,
   "metadata": {},
   "outputs": [],
   "source": []
  }
 ],
 "metadata": {
  "kernelspec": {
   "display_name": "Python 3",
   "language": "python",
   "name": "python3"
  },
  "language_info": {
   "codemirror_mode": {
    "name": "ipython",
    "version": 3
   },
   "file_extension": ".py",
   "mimetype": "text/x-python",
   "name": "python",
   "nbconvert_exporter": "python",
   "pygments_lexer": "ipython3",
   "version": "3.7.7"
  }
 },
 "nbformat": 4,
 "nbformat_minor": 4
}
